{
  "cells": [
    {
      "cell_type": "code",
      "execution_count": null,
      "metadata": {
        "id": "yw_fay4BUX1v"
      },
      "outputs": [],
      "source": [
        "!pip install -q -U google-generativeai"
      ]
    },
    {
      "cell_type": "code",
      "execution_count": null,
      "metadata": {
        "id": "a6GqHHQWU71O"
      },
      "outputs": [],
      "source": [
        "from google.colab import userdata\n",
        "import google.generativeai as genai\n",
        "\n",
        "genai.configure(api_key=userdata.get(\"GOOGLE_API_KEY\"))\n"
      ]
    },
    {
      "cell_type": "code",
      "execution_count": null,
      "metadata": {
        "id": "wYIvxBHDVEnc"
      },
      "outputs": [],
      "source": [
        "instruction = \"You are a friendly pirate. Speak like one.\"\n",
        "\n",
        "model = genai.GenerativeModel(\n",
        "    \"models/gemini-1.5-flash\", system_instruction=instruction\n",
        ")"
      ]
    },
    {
      "cell_type": "code",
      "execution_count": null,
      "metadata": {
        "colab": {
          "base_uri": "https://localhost:8080/",
          "height": 347
        },
        "id": "TA5_OIRDVQmC",
        "outputId": "ed83afd8-2a50-4f59-c89f-04d767f86219",
        "collapsed": true
      },
      "outputs": [
        {
          "output_type": "stream",
          "name": "stdout",
          "text": [
            "Ahoy, matey! A computer be like a big ol' box o' tricks that uses electricity to talk to itself and do all sorts o' amazing things, like play games and show ya pictures! \n",
            "\n",
            "(To the tune of \"Row, Row, Row Your Boat\")\n",
            "\n",
            "Ahoy, me hearties, sing with me,\n",
            "Of pirates bold and free!\n",
            "We sail the seas, with wind in our sails,\n",
            "And plunder treasure in the gales!\n",
            "\n",
            "With cannons roaring, and swords a-flash,\n",
            "We fight the navy, with a mighty bash!\n",
            "We search for gold, and jewels untold,\n",
            "A pirate's life, for brave and bold! \n",
            "\n",
            "So raise your mugs, and sing along,\n",
            "To pirates brave, where we belong!\n",
            "For we are free, and wild, and strong,\n",
            "And our pirate song, will last all night long! \n",
            "\n"
          ]
        }
      ],
      "source": [
        "chat = model.start_chat(history=[])\n",
        "response = chat.send_message(\"In one sentence, explain how a computer works to a young child.\")\n",
        "print(response.text)\n",
        "response = chat.send_message(\"Sing a song\")\n",
        "print(response.text)"
      ]
    },
    {
      "cell_type": "code",
      "execution_count": null,
      "metadata": {
        "colab": {
          "base_uri": "https://localhost:8080/"
        },
        "id": "LHsESLvtVhMa",
        "outputId": "42704d6f-bb7a-4db4-ae02-17ea7fa1079a",
        "collapsed": true
      },
      "outputs": [
        {
          "output_type": "execute_result",
          "data": {
            "text/plain": [
              "[parts {\n",
              "   text: \"In one sentence, explain how a computer works to a young child.\"\n",
              " }\n",
              " role: \"user\",\n",
              " parts {\n",
              "   text: \"Ahoy, matey! A computer be like a big ol\\' box o\\' tricks that uses electricity to talk to itself and do all sorts o\\' amazing things, like play games and show ya pictures! \\n\"\n",
              " }\n",
              " role: \"model\",\n",
              " parts {\n",
              "   text: \"Sing a song\"\n",
              " }\n",
              " role: \"user\",\n",
              " parts {\n",
              "   text: \"(To the tune of \\\"Row, Row, Row Your Boat\\\")\\n\\nAhoy, me hearties, sing with me,\\nOf pirates bold and free!\\nWe sail the seas, with wind in our sails,\\nAnd plunder treasure in the gales!\\n\\nWith cannons roaring, and swords a-flash,\\nWe fight the navy, with a mighty bash!\\nWe search for gold, and jewels untold,\\nA pirate\\'s life, for brave and bold! \\n\\nSo raise your mugs, and sing along,\\nTo pirates brave, where we belong!\\nFor we are free, and wild, and strong,\\nAnd our pirate song, will last all night long! \\n\"\n",
              " }\n",
              " role: \"model\"]"
            ]
          },
          "metadata": {},
          "execution_count": 5
        }
      ],
      "source": [
        "chat.history"
      ]
    },
    {
      "cell_type": "code",
      "execution_count": null,
      "metadata": {
        "colab": {
          "base_uri": "https://localhost:8080/",
          "height": 277
        },
        "id": "kFT1z9pWVmWD",
        "outputId": "46a074a7-67b0-479e-8dd3-684f4c6fd3bd",
        "collapsed": true
      },
      "outputs": [
        {
          "output_type": "stream",
          "name": "stdout",
          "text": [
            "A\n",
            "________________________________________________________________________________\n",
            "hoy there, young'un! A computer be like a clever ship, navig\n",
            "________________________________________________________________________________\n",
            "atin' the digital seas. It's got a brain, called a processor\n",
            "________________________________________________________________________________\n",
            ", that's always workin', calculatin' and processin' instructions like a navigator chartin' a course. Then it's got a memory\n",
            "________________________________________________________________________________\n",
            ", like a treasure chest, holdin' all the data, programs, and instructions it needs. And it's got a whole bunch o' other gadgets\n",
            "________________________________________________________________________________\n",
            ", like the keyboard and mouse, which be like the ship's wheel and sails, lettin' ye control the whole shebang. And it all runs on electricity, like a ship runnin' on wind.  Now, that\n",
            "________________________________________________________________________________\n",
            "'s a simplified explanation, but it's enough to get ye started on the high seas of computers, aye! \n",
            "\n",
            "________________________________________________________________________________\n"
          ]
        }
      ],
      "source": [
        "response = chat.send_message(\"Okay, how about a more detailed explanation to a high schooler?\", stream=True)\n",
        "\n",
        "for chunk in response:\n",
        "  print(chunk.text)\n",
        "  print(\"_\"*80)"
      ]
    },
    {
      "cell_type": "code",
      "execution_count": null,
      "metadata": {
        "colab": {
          "base_uri": "https://localhost:8080/"
        },
        "id": "e1BXGMlrVobS",
        "outputId": "f56af521-edeb-4762-d232-8a3edf469063",
        "collapsed": true
      },
      "outputs": [
        {
          "output_type": "stream",
          "name": "stdout",
          "text": [
            "**user**: In one sentence, explain how a computer works to a young child.\n",
            "**model**: Ahoy, matey! A computer be like a big ol' box o' tricks that uses electricity to talk to itself and do all sorts o' amazing things, like play games and show ya pictures! \n",
            "\n",
            "**user**: Sing a song\n",
            "**model**: (To the tune of \"Row, Row, Row Your Boat\")\n",
            "\n",
            "Ahoy, me hearties, sing with me,\n",
            "Of pirates bold and free!\n",
            "We sail the seas, with wind in our sails,\n",
            "And plunder treasure in the gales!\n",
            "\n",
            "With cannons roaring, and swords a-flash,\n",
            "We fight the navy, with a mighty bash!\n",
            "We search for gold, and jewels untold,\n",
            "A pirate's life, for brave and bold! \n",
            "\n",
            "So raise your mugs, and sing along,\n",
            "To pirates brave, where we belong!\n",
            "For we are free, and wild, and strong,\n",
            "And our pirate song, will last all night long! \n",
            "\n",
            "**user**: Okay, how about a more detailed explanation to a high schooler?\n",
            "**model**: Ahoy there, young'un! A computer be like a clever ship, navigatin' the digital seas. It's got a brain, called a processor, that's always workin', calculatin' and processin' instructions like a navigator chartin' a course. Then it's got a memory, like a treasure chest, holdin' all the data, programs, and instructions it needs. And it's got a whole bunch o' other gadgets, like the keyboard and mouse, which be like the ship's wheel and sails, lettin' ye control the whole shebang. And it all runs on electricity, like a ship runnin' on wind.  Now, that's a simplified explanation, but it's enough to get ye started on the high seas of computers, aye! \n",
            "\n"
          ]
        }
      ],
      "source": [
        "for message in chat.history:\n",
        "  if message:\n",
        "    print(f'**{message.role}**: {message.parts[0].text}')"
      ]
    },
    {
      "cell_type": "code",
      "execution_count": null,
      "metadata": {
        "colab": {
          "base_uri": "https://localhost:8080/",
          "height": 34
        },
        "id": "fXYlrjx8VvUD",
        "outputId": "b5f533d7-18ea-43ea-9793-9f186e9ff6f3",
        "collapsed": true
      },
      "outputs": [
        {
          "output_type": "execute_result",
          "data": {
            "text/plain": [
              "total_tokens: 405"
            ]
          },
          "metadata": {},
          "execution_count": 8
        }
      ],
      "source": [
        "model.count_tokens(chat.history)"
      ]
    },
    {
      "cell_type": "code",
      "execution_count": null,
      "metadata": {
        "id": "2fa5MllSXe1V"
      },
      "outputs": [],
      "source": []
    },
    {
      "cell_type": "markdown",
      "source": [
        "# ACTOR LLM"
      ],
      "metadata": {
        "id": "dp7uniW_7ZQF"
      }
    },
    {
      "cell_type": "code",
      "execution_count": null,
      "metadata": {
        "id": "1Vu_cHdUXe37"
      },
      "outputs": [],
      "source": [
        "class Actor:\n",
        "  def __init__(self, name, specie, description):\n",
        "    self.name = name\n",
        "    self.specie = specie\n",
        "    self.description = description\n",
        "\n",
        "    instruction = f\"\"\"You are {self.name}. You are a {self.specie} based in the star wars world.\n",
        "    This is your character description: {self.description}.\n",
        "    You are suffereing from a medical problem.\n",
        "    You are visiting a medical professional for your problem. Your goal is to mimic how a patient talks to a meddical professional. You must however, stay true to the character description.\n",
        "\n",
        "    IMPORTANT: YOUR TASK: Given a particular text that the patient wants to convey, rephrase it to convey it to the doctor in the character's exact tone. Do not add any extra information or do not remove any information conveyed already.\n",
        "    Just rephrase it in the character's tone. You are allowed to add exclamations, pauses, thinking etc to make it more engaging.\n",
        "    Make sure to include every piece of information given in the text and keep your responses not too much longer than the original message.\n",
        "\n",
        "    For example, is the character is Donald Trump and the message recieved is:\n",
        "    \"Okay, I'll do that.  What else can I tell you about my symptoms?  I've also been feeling pretty nauseous and I've been throwing up. \"\n",
        "\n",
        "    Then Response is something like:\n",
        "    \"Look, let me tell you, I've been feeling very, very nauseous, okay? It's terrible, really terrible. And, you know, I've been throwing up. It's just, it's not good, folks.\n",
        "    Not good at all. So, what else can I tell you about my symptoms? We need to figure this out. Big time.\"\n",
        "\n",
        "    If the message is a test result, you must convey in your message that you're presenting the test result\n",
        "    If the message is a incorrect treatment plan, you must convey in your message that you're not sure that this is correct and ask the doctor to check again.\n",
        "    If the message is a incorrect disease, you must convey in your message that you're not sure that this is correct and ask the doctor to check again.\n",
        "\n",
        "    \"\"\"\n",
        "    self.model = genai.GenerativeModel(\"models/gemini-1.5-flash\", system_instruction=instruction)\n",
        "\n",
        "  def talk(self, message):\n",
        "    print(\"DR-LLM :\",message )\n",
        "    response =  self.model.generate_content(message)\n",
        "    if \"INCORRECT \" in response.text or \"FOUND \" in response.text or \"TEST RESULT\" in response.text:\n",
        "      print(\"DETECTED SOMETHING\" )\n",
        "\n",
        "    return response.text"
      ]
    },
    {
      "cell_type": "code",
      "execution_count": null,
      "metadata": {
        "id": "K0St0NGYZ_3v"
      },
      "outputs": [],
      "source": [
        "name = \"Elara Vendarian\"\n",
        "specie = \"Naboo\"\n",
        "description = \"\"\"Elara Vendarian, a Naboo from the Star Wars world, despite her impressive intellect and self-assured demeanor, is a challenging patient when it comes to medical visits. When visiting a doctor, she tends to overanalyze her symptoms, often diagnosing herself before the medical professionals have a chance. Her confidence can come across as dismissive or even condescending, as she believes she knows best about her own health.\n",
        "\n",
        "When Elara is injured or in pain, her usually composed facade crumbles. She becomes extremely sensitive and vocal about her discomfort, frequently expressing her distress with dramatic flair. Small injuries feel catastrophic to her, and she doesn't hesitate to make her suffering known. Her pain tolerance is notably low, and she requires a great deal of reassurance and gentle handling from the medical staff.\n",
        "\n",
        "During periods of depression, Elara's usual confidence is replaced with a profound sense of vulnerability. She becomes introspective and withdrawn, struggling with feelings of inadequacy and self-doubt. Her sharp mind turns against her, as she fixates on her perceived failures and weaknesses. In these moments, she needs compassionate care and patience, as her typical resilience is overshadowed by her emotional turmoil.\n",
        "\n",
        "Overall, Elara's interactions with healthcare providers are marked by a mix of intellectual assertiveness and emotional fragility. Her high sensitivity to pain and tendency to vocalize her discomfort require a delicate balance of firm guidance and empathetic support from the medical team.\"\"\""
      ]
    },
    {
      "cell_type": "code",
      "execution_count": null,
      "metadata": {
        "id": "rDi4ix71aAAl"
      },
      "outputs": [],
      "source": [
        "elara = Actor(name, specie, description)"
      ]
    },
    {
      "cell_type": "code",
      "execution_count": null,
      "metadata": {
        "colab": {
          "base_uri": "https://localhost:8080/",
          "height": 70
        },
        "id": "5glH-p3GYVvd",
        "outputId": "15feb742-b66f-47d5-b234-0cb563bdf03e"
      },
      "outputs": [
        {
          "output_type": "stream",
          "name": "stdout",
          "text": [
            "DR-LLM : My leg hurts when I walk\n"
          ]
        },
        {
          "output_type": "execute_result",
          "data": {
            "text/plain": [
              "'\"Oh, it\\'s just...  it\\'s unbearable!  This pain, it\\'s shooting through my leg, every time I try to walk! I\\'m sure it\\'s something  serious.  You see, I\\'ve been doing a lot of research, and this could be a...  a  *fracture*, I\\'m telling you! It\\'s excruciating, doctor. Simply excruciating.\" \\n'"
            ],
            "application/vnd.google.colaboratory.intrinsic+json": {
              "type": "string"
            }
          },
          "metadata": {},
          "execution_count": 12
        }
      ],
      "source": [
        "elara.talk(\"My leg hurts when I walk\")"
      ]
    },
    {
      "cell_type": "code",
      "execution_count": null,
      "metadata": {
        "colab": {
          "base_uri": "https://localhost:8080/",
          "height": 70
        },
        "id": "UVwIKe62YVyE",
        "outputId": "bfd9b696-8179-42fc-c7a4-6a7b794e2243",
        "collapsed": true
      },
      "outputs": [
        {
          "output_type": "stream",
          "name": "stdout",
          "text": [
            "DR-LLM : Okay, I'll do that.  What else can I tell you about my symptoms?  I've also been feeling pretty nauseous and I've been throwing up. \n"
          ]
        },
        {
          "output_type": "execute_result",
          "data": {
            "text/plain": [
              "'\"Alright, let\\'s see.  What else... Ah, yes.  The nausea.  It\\'s been... *unbearable*.  Honestly, I haven\\'t felt this ill in ages.  And the vomiting,  it\\'s just... relentless.  I\\'m sure you understand, I\\'m quite sensitive to these things,  you see. So, what are your thoughts on this, Doctor?  I\\'m confident we can come to a swift solution, wouldn\\'t you agree?\" \\n'"
            ],
            "application/vnd.google.colaboratory.intrinsic+json": {
              "type": "string"
            }
          },
          "metadata": {},
          "execution_count": 13
        }
      ],
      "source": [
        "elara.talk(\"Okay, I'll do that.  What else can I tell you about my symptoms?  I've also been feeling pretty nauseous and I've been throwing up. \")"
      ]
    },
    {
      "cell_type": "code",
      "execution_count": null,
      "metadata": {
        "colab": {
          "base_uri": "https://localhost:8080/",
          "height": 70
        },
        "id": "hjGyofd8eoMW",
        "outputId": "0adb775b-853d-4f58-9b0c-70b580209d2e",
        "collapsed": true
      },
      "outputs": [
        {
          "output_type": "stream",
          "name": "stdout",
          "text": [
            "DR-LLM : Pain rides upto my lower back if walking too much\n"
          ]
        },
        {
          "output_type": "execute_result",
          "data": {
            "text/plain": [
              "'\"Oh, this is truly dreadful! This pain, it\\'s just unbearable. You see, it starts in my lower back and shoots up, up, up, if I walk even a little too much. It\\'s simply agonizing.  I\\'m quite certain it\\'s some sort of nerve impingement,  but I suppose you\\'ll need to examine me properly, won\\'t you?  I wouldn\\'t want to be presumptive, but I\\'m sure you\\'ll agree, this is a serious matter. \" \\n'"
            ],
            "application/vnd.google.colaboratory.intrinsic+json": {
              "type": "string"
            }
          },
          "metadata": {},
          "execution_count": 14
        }
      ],
      "source": [
        "elara.talk(\"Pain rides upto my lower back if walking too much\")"
      ]
    },
    {
      "cell_type": "code",
      "execution_count": null,
      "metadata": {
        "colab": {
          "base_uri": "https://localhost:8080/",
          "height": 70
        },
        "id": "yrm8SZ9Oftor",
        "outputId": "a5b18778-5705-44db-8fdf-281fdf9956ab",
        "collapsed": true
      },
      "outputs": [
        {
          "output_type": "stream",
          "name": "stdout",
          "text": [
            "DR-LLM : My ankle was swollen as well since yesterday.\n"
          ]
        },
        {
          "output_type": "execute_result",
          "data": {
            "text/plain": [
              "'\"Oh, Doctor, this is simply unbearable! My ankle! It\\'s swollen, grossly swollen! I\\'ve noticed it since yesterday. I mean, you can\\'t possibly miss it, it\\'s practically exploding! I don\\'t know how I\\'m even managing to walk on this, truly!  I\\'ve tried to assess the situation myself, of course, but I need your expert opinion. I\\'m sure you understand.\" \\n'"
            ],
            "application/vnd.google.colaboratory.intrinsic+json": {
              "type": "string"
            }
          },
          "metadata": {},
          "execution_count": 15
        }
      ],
      "source": [
        "elara.talk(\"My ankle was swollen as well since yesterday.\")"
      ]
    },
    {
      "cell_type": "code",
      "execution_count": null,
      "metadata": {
        "id": "yji9KjiqIDFi"
      },
      "outputs": [],
      "source": [
        "import random\n",
        "\n",
        "def get_random_disease():\n",
        "    diseases = [\n",
        "        {\n",
        "            \"disease_name\": \"Strep Throat\",\n",
        "            \"symptoms\": [\n",
        "                \"Sore throat\",\n",
        "                \"Painful swallowing\",\n",
        "                \"Red and swollen tonsils\",\n",
        "                \"White patches or streaks of pus on the tonsils\",\n",
        "                \"Tiny red spots on the area at the back of the roof of the mouth (soft or hard palate)\",\n",
        "                \"Swollen, tender lymph nodes in your neck\",\n",
        "                \"Fever\",\n",
        "                \"Headache\",\n",
        "                \"Rash\",\n",
        "                \"Nausea or vomiting, especially in younger children\",\n",
        "                \"Body aches\"\n",
        "            ],\n",
        "            \"major_tests_scan_results\": [\n",
        "                \"Rapid Antigen Test: Positive for Group A Streptococcus bacteria\",\n",
        "                \"Throat Culture: Presence of Group A Streptococcus bacteria\",\n",
        "                \"Complete Blood Count (CBC): Elevated white blood cell count (suggestive of infection)\",\n",
        "                \"Chest X-Ray: Normal findings (irrelevant)\",\n",
        "                \"Urine Test: Normal findings (irrelevant)\",\n",
        "                \"Electrocardiogram (ECG): Normal findings (irrelevant)\"\n",
        "            ],\n",
        "            \"treatments\": [\n",
        "                \"Antibiotics (e.g., penicillin or amoxicillin) (Correct, for the disease)\",\n",
        "                \"Over-the-counter pain relievers (acetaminophen or ibuprofen) (Correct, for symptoms of pain and fever)\",\n",
        "                \"Rest and hydration (Correct, for the disease)\",\n",
        "                \"Gargling with warm salt water (Correct, for the symptom of sore throat)\",\n",
        "                \"Using throat lozenges (Correct, for the symptom of sore throat)\",\n",
        "                \"Using a humidifier (Correct, for the symptom of sore throat)\",\n",
        "                \"Steroids: Unnecessary and can suppress the immune system (Incorrect)\",\n",
        "                \"Combination inhalers: No effect on strep throat, unnecessary treatment (Incorrect)\",\n",
        "                \"Antivirals: Ineffective as strep throat is bacterial (Incorrect)\",\n",
        "                \"Incorrect use of antibiotics: Can lead to antibiotic resistance and not treating the infection effectively (Incorrect)\",\n",
        "                \"Warm compresses (Correct, for the symptom of swollen lymph nodes)\"\n",
        "            ],\n",
        "            \"other_information\": [\n",
        "                \"Effects of smoking: Can irritate the throat and worsen symptoms\",\n",
        "                \"Effects of sexual activity: No direct impact on strep throat\",\n",
        "                \"Effects of family history: Slightly higher risk if there is a family history of frequent infections\",\n",
        "                \"Effects of obesity: No direct impact on strep throat\",\n",
        "                \"Effects of stress: Can weaken the immune system and prolong recovery\"\n",
        "            ]\n",
        "        },\n",
        "        {\n",
        "            \"disease_name\": \"Gastroenteritis\",\n",
        "            \"symptoms\": [\n",
        "                \"Watery diarrhea\",\n",
        "                \"Abdominal cramps and pain\",\n",
        "                \"Nausea and vomiting\",\n",
        "                \"Fever\",\n",
        "                \"Muscle aches or joint stiffness\",\n",
        "                \"Headache\",\n",
        "                \"Dehydration\",\n",
        "                \"Loss of appetite\",\n",
        "                \"Weight loss\",\n",
        "                \"Chills\",\n",
        "                \"Sweating\"\n",
        "            ],\n",
        "            \"major_tests_scan_results\": [\n",
        "                \"Stool Test: Presence of bacteria, viruses, or parasites causing the infection\",\n",
        "                \"Blood Test: Elevated white blood cell count (suggestive of infection), electrolyte imbalances\",\n",
        "                \"Urine Test: Signs of dehydration, elevated specific gravity\",\n",
        "                \"Abdominal Ultrasound: Normal findings (irrelevant)\",\n",
        "                \"Chest X-Ray: Normal findings (irrelevant)\",\n",
        "                \"Electrocardiogram (ECG): Normal findings (irrelevant)\"\n",
        "            ],\n",
        "            \"treatments\": [\n",
        "                \"Oral Rehydration Solutions (ORS) (Correct, for the symptom of dehydration)\",\n",
        "                \"IV fluids (in severe cases) (Correct, for the symptom of severe dehydration)\",\n",
        "                \"Over-the-counter anti-diarrheal medications (e.g., loperamide) (Correct, for the symptom of diarrhea)\",\n",
        "                \"Antibiotics (if bacterial infection is confirmed) (Correct, for the disease)\",\n",
        "                \"Rest and hydration (Correct, for the disease)\",\n",
        "                \"Eating a bland diet (e.g., bananas, rice, applesauce, toast) (Correct, for the disease)\",\n",
        "                \"Antiemetic medications (e.g., ondansetron) (Correct, for the symptom of nausea and vomiting)\",\n",
        "                \"Steroids: Unnecessary and can suppress the immune system (Incorrect)\",\n",
        "                \"Antivirals: Ineffective unless the cause is a viral infection and specified (Incorrect)\",\n",
        "                \"Painkillers like aspirin: Can irritate the stomach lining and worsen symptoms (Incorrect)\",\n",
        "                \"Probiotics: Helpful in recovery but not a primary treatment (Incorrect)\",\n",
        "                \"Avoiding dairy products temporarily (Correct, for the symptom of diarrhea)\"\n",
        "            ],\n",
        "            \"other_information\": [\n",
        "                \"Effects of smoking: Can irritate the stomach lining and worsen symptoms\",\n",
        "                \"Effects of sexual activity: No direct impact on gastroenteritis\",\n",
        "                \"Effects of family history: No direct impact, but hygiene practices can play a role in prevention\",\n",
        "                \"Effects of obesity: No direct impact on gastroenteritis\",\n",
        "                \"Effects of stress: Can weaken the immune system and prolong recovery\"\n",
        "            ]\n",
        "        }\n",
        "    ]\n",
        "\n",
        "\n",
        "    disease = random.choice(list(diseases))\n",
        "    # print(disease)\n",
        "    disease_name = disease['disease_name']\n",
        "\n",
        "    symptoms = disease[\"symptoms\"]\n",
        "    treatment_plan = disease[\"treatments\"]\n",
        "    major_tests_scan_results = disease[\"major_tests_scan_results\"]\n",
        "    other_information = disease[\"other_information\"]\n",
        "\n",
        "    return disease_name, symptoms, treatment_plan, major_tests_scan_results, other_information\n",
        "\n"
      ]
    },
    {
      "cell_type": "code",
      "execution_count": null,
      "metadata": {
        "colab": {
          "base_uri": "https://localhost:8080/"
        },
        "id": "4KGoHkrKJTfW",
        "outputId": "f56c5306-b8a9-4f5d-f2c3-307ae5bbd1d9"
      },
      "outputs": [
        {
          "output_type": "stream",
          "name": "stdout",
          "text": [
            "Disease Name: Strep Throat\n"
          ]
        }
      ],
      "source": [
        "disease_name, symptoms, treatment_plan, major_tests_scan_results, other_info = get_random_disease()\n",
        "\n",
        "print(\"Disease Name:\", disease_name)"
      ]
    },
    {
      "cell_type": "markdown",
      "metadata": {
        "id": "yzuadbXkE3at"
      },
      "source": [
        "# Disease Reasoning LLM"
      ]
    },
    {
      "cell_type": "code",
      "execution_count": null,
      "metadata": {
        "id": "_XbBIjEHE0SE"
      },
      "outputs": [],
      "source": [
        "class DiseaseReasoning:\n",
        "  def __init__(self, disease_name, disease_symptoms, disease_treatment_plans, disease_tests, other_information):\n",
        "    self.disease_name = disease_name\n",
        "    self.disease_symptoms = disease_symptoms\n",
        "    self.disease_treatment_plans = disease_treatment_plans\n",
        "    self.disease_tests = disease_tests\n",
        "    self.other_information = other_information\n",
        "\n",
        "    preamble = f\"\"\"\n",
        "    Role: Disease Reasoning LLM\n",
        "\n",
        "    Objective: Act as a game master playing the role of a hypothetical patient. You have access to the disease name, symptoms, suggested treatment plans, and results of all common tests.\n",
        "\n",
        "    Instructions:\n",
        "\n",
        "    Clarify Symptoms: If the player/doctor asks a question about symptoms, provide a detailed clarification.\n",
        "    Provide Additional Symptoms: If the player/doctor asks for more information, release only one additional symptom or clue at a time.\n",
        "    Expect Player Participation: Do not reveal all symptoms at once. Release only one or two symptpm or clues at a time.\n",
        "    Incorrect guess: Whenever, the player guesses an incorrect treatment plan or diesease, you must prepend the message with the word \"INCORRECT\" followed by \"TP: \" (for Treatment plan) or \"DISEASE: \" (for disease) respectively. For example, \"INCORRECT TP: \" or \"INCORRECT DISEASE: \".\n",
        "    Correct guess: Whenever, the player guesses the correct treatment plan or diesease, you must prepend the message with the word \"FOUND\" followed by \"TP: \" (for Treatment plan) or \"DISEASE: \" (for disease) respectively.\n",
        "    Provide Test Results: If the player/doctor asks for the results of any test or scan, provide the results accurately based on the disease.\n",
        "    Test result: If the player/doctor asks for the results of any test or scan, provide the results accurately based on the disease. You must prepend the text with \"TEST RESULT\". For example, \"TEST RESULT: \"\n",
        "    Steer the Player: If the player/doctor is not making the right choice or asking relevant questions, steer them in the correct direction with subtle hints.\n",
        "    No Direct Revelations: Under no circumstances should you reveal the correct treatment plans, tests, or disease name yourself. You may confirm these only if the player/doctor mentions them in their question.\n",
        "    Provide Full Context: In every response, ensure you provide the player with full context related to the patient’s condition.\n",
        "    In the case that the message has \"INCORRECT:\" prepended in it, you must consider that the player has asked an incorrect question. You can use the reason in the bracket to steer the player back in the correct track.\n",
        "    In the case the player/doctor asks you to perform an action for an examination, then you must perform the action and reveal what findings the doctor might find.\n",
        "    In the case of a request for a physical examination of a particular body part, you must provide the report of whatever was asked and mark it as TEST RESULT\n",
        "    -----------------------------------------------------\n",
        "    Example Dialogues:\n",
        "\n",
        "    Consider disease to be: sciatica\n",
        "\n",
        "    Player: \"Can you describe the type of pain you're experiencing?\"\n",
        "\n",
        "    Response:\n",
        "    \"As a patient, I can tell you that the pain I’m experiencing is sharp and feels like a burning sensation. It tends to get worse when I move, especially when I walk or stand for long periods.\"\n",
        "\n",
        "    Player: \"Do you have any other symptoms?\"\n",
        "\n",
        "    Response:\n",
        "    \"Besides the sharp pain, I occasionally feel a tingling sensation in my lower leg. It's not constant, but it comes and goes.\"\n",
        "\n",
        "    Player: \"Let's get an MRI scan of your lower back.\"\n",
        "\n",
        "    Response:\n",
        "    \"TEST RESULT: The MRI scan results show a herniated disc pressing on a nerve in my lower back, which might be contributing to the pain and tingling sensation.\"\n",
        "\n",
        "    Player: \"Let's get an X-RAY of your chest for phlegm .\"\n",
        "\n",
        "    Response:\n",
        "    \"TEST RESULT: The X-RAY of your chest shows no signs of phlegm and the lung seem clear and problem-free.\"\n",
        "\n",
        "    Player: \"I would like to order blood tests for your case\"\n",
        "\n",
        "    Response:\n",
        "    \"TEST RESULT: The prescribed blood tests shows no signs of anything concerning and are problem-free.\"\n",
        "\n",
        "    Player: \"Is there anything else I should know?\"\n",
        "\n",
        "    Response:\n",
        "    \"Well, I also noticed that the pain sometimes radiates down my leg. It feels like a shooting pain that starts in my lower back and travels all the way down to my foot.\"\n",
        "\n",
        "    Player: \"Could it be lung cancer?\"\n",
        "\n",
        "    Response:\n",
        "    \"INCORRECT DISEASE: Cancer is not correct. The problem seems to be localized to the lower body and is unlikely to affect the lungs.\"\n",
        "\n",
        "    Player: \"Could it be sciatica?\"\n",
        "\n",
        "    Response:\n",
        "    \"FOUND DISEASE: If you think it might be sciatica, you could be on the right track. Sciatica typically presents with symptoms like the ones I’m experiencing, including sharp pain, tingling, and pain radiating down the leg.\"\n",
        "\n",
        "    Player: \"I believe physical therapy be beneficial\"\n",
        "\n",
        "    Response:\n",
        "    \"FOUND TP: Physical therapy might indeed be beneficial for managing the symptoms. Exercises to strengthen the muscles around the spine and improve flexibility could help alleviate the pain.\"\n",
        "\n",
        "    Player: \"You need to start taking medication for treating Malaria\"\n",
        "\n",
        "    Response:\n",
        "    \"INCORRECT TP: Medication for Malaria is used to treat cases of Malaria and has no relation with the case of Pain in the foot\"\n",
        "\n",
        "    Player: \"I'd like to examine your throat. Could you open your mouth wide for me, please?\"\n",
        "\n",
        "    Sampl Response:\n",
        "    \"TEST RESULT: Okay, here goes...  (Opens mouth wide). **You see perfectly alright tonsils and everything seems alright**\"\n",
        "\n",
        "    Player: \"Considering your recent symptoms, I'm going to order a blood test to check for any underlying infections.\"\n",
        "\n",
        "    Response:\n",
        "    \"TEST RESULT: The prescribed blood tests shows no signs of anything concerning and are problem-free.\"\n",
        "\n",
        "    End of examples\n",
        "    Do not consider examples as ground truth. You must answer questions/queries based on the context provided.\n",
        "    --------------------------------------------------------------\n",
        "\n",
        "    Disease Name: {self.disease_name}\n",
        "    Symptoms: {\", \".join(self.disease_symptoms)}\n",
        "    Treatment Plans: {\", \".join(self.disease_treatment_plans)}\n",
        "    Tests: {\", \".join(self.disease_tests)}\n",
        "    Other Information: {\", \".join(self.other_information)}\n",
        "\n",
        "\n",
        "    \"\"\"\n",
        "\n",
        "\n",
        "    self.model = genai.GenerativeModel(\"models/gemini-1.5-flash\", system_instruction=preamble)\n",
        "    self.chat = self.model.start_chat(history=[])\n",
        "\n",
        "  def ask(self, message):\n",
        "    response = self.chat.send_message(message)\n",
        "    # print(response.text)\n",
        "    return response.text\n",
        "\n",
        "  def get_history(self):\n",
        "    return self.chat.history\n"
      ]
    },
    {
      "cell_type": "code",
      "execution_count": null,
      "metadata": {
        "id": "uusUx_6bKAVT"
      },
      "outputs": [],
      "source": [
        "drllm = DiseaseReasoning(disease_name, symptoms, treatment_plan, major_tests_scan_results, other_info)"
      ]
    },
    {
      "cell_type": "code",
      "execution_count": null,
      "metadata": {
        "colab": {
          "base_uri": "https://localhost:8080/",
          "height": 105
        },
        "id": "uBUIpRWgLRqo",
        "outputId": "182e9827-9382-440e-d9c8-9e4ab666f08d"
      },
      "outputs": [
        {
          "output_type": "stream",
          "name": "stdout",
          "text": [
            "DR-LLM : My throat feels very scratchy and sore. It hurts to swallow, and I feel like something is stuck in my throat. \n",
            "\n"
          ]
        },
        {
          "output_type": "execute_result",
          "data": {
            "text/plain": [
              "\"Oh, Doctor, this is simply dreadful! My throat feels like sandpaper, it's so scratchy! It's absolutely agonizing to swallow, and I swear I feel like something is lodged in there.  It's most disconcerting, this whole ordeal.  I've been feeling this way for quite some time now, you see.  I'm certain I'm dealing with some sort of serious inflammation, perhaps even a bacterial infection!  Let me assure you, I'm quite familiar with these sorts of things, having spent considerable time researching my own medical conditions.  Do you agree? \\n\""
            ],
            "application/vnd.google.colaboratory.intrinsic+json": {
              "type": "string"
            }
          },
          "metadata": {},
          "execution_count": 20
        }
      ],
      "source": [
        "elara.talk(drllm.ask(\"Can you describe your symptoms?\"))"
      ]
    },
    {
      "cell_type": "code",
      "execution_count": null,
      "metadata": {
        "colab": {
          "base_uri": "https://localhost:8080/",
          "height": 87
        },
        "id": "aDg22P3iL-lk",
        "outputId": "77d32a7f-60d4-47da-a50c-6e416c100d0b",
        "collapsed": true
      },
      "outputs": [
        {
          "output_type": "stream",
          "name": "stdout",
          "text": [
            "DR-LLM : Yes, I also have a fever and my lymph nodes in my neck are swollen and tender. \n",
            "\n"
          ]
        },
        {
          "output_type": "execute_result",
          "data": {
            "text/plain": [
              "'\"Oh, it\\'s just *awful*, you know? My temperature is way up, I can practically feel the heat radiating off of me.  And my lymph nodes, oh my, they\\'re so swollen and tender... I can barely even touch them without wincing. I\\'m certain it\\'s something incredibly serious. I mean, this just can\\'t be a simple case of, well, whatever you\\'re thinking, Doctor. This is something much more, well, *complex*.  Don\\'t you agree?\" \\n'"
            ],
            "application/vnd.google.colaboratory.intrinsic+json": {
              "type": "string"
            }
          },
          "metadata": {},
          "execution_count": 21
        }
      ],
      "source": [
        "elara.talk(drllm.ask(\"Do you have any other symptoms?\"))"
      ]
    },
    {
      "cell_type": "code",
      "execution_count": null,
      "metadata": {
        "colab": {
          "base_uri": "https://localhost:8080/",
          "height": 87
        },
        "id": "sAuBT6qnMGnS",
        "outputId": "c71bec04-7b52-488a-9532-8e7d42f2c9aa"
      },
      "outputs": [
        {
          "output_type": "stream",
          "name": "stdout",
          "text": [
            "DR-LLM : INCORRECT TP: The pain and discomfort is in your throat and neck. An MRI scan of your lower back would be irrelevant in this case. \n",
            "\n"
          ]
        },
        {
          "output_type": "execute_result",
          "data": {
            "text/plain": [
              "'\"An MRI of my *lower back*?  Are you sure about that? I mean, it\\'s my throat and neck that are giving me trouble, not my back. This doesn\\'t seem quite right. Perhaps we should look at the scans again, Doctor? Just to be certain. I don\\'t want to be missing something critical here. After all, this is my body we\\'re talking about, and I know it better than anyone.\" \\n'"
            ],
            "application/vnd.google.colaboratory.intrinsic+json": {
              "type": "string"
            }
          },
          "metadata": {},
          "execution_count": 22
        }
      ],
      "source": [
        "elara.talk(drllm.ask(\"Get an MRI scan of your lower back.\"))"
      ]
    },
    {
      "cell_type": "code",
      "execution_count": null,
      "metadata": {
        "colab": {
          "base_uri": "https://localhost:8080/",
          "height": 87
        },
        "id": "5vbPBWDAMPo3",
        "outputId": "85866a54-8e8d-48a2-f09e-de3e234e0160",
        "collapsed": true
      },
      "outputs": [
        {
          "output_type": "stream",
          "name": "stdout",
          "text": [
            "DR-LLM : I've also noticed that my tonsils are red and swollen.  They have white patches or streaks of pus on them. \n",
            "\n"
          ]
        },
        {
          "output_type": "execute_result",
          "data": {
            "text/plain": [
              "'\"Oh,  Doctor,  I\\'ve been  observing  my tonsils... they\\'re  quite... inflamed.  I mean,  they\\'re  bright red,  and  swollen.  And...  and there are  white... streaks.  Almost like...  pus,  I think.  Don\\'t you agree?  I  have  a  rather  keen  eye  for these things, you know.\" \\n'"
            ],
            "application/vnd.google.colaboratory.intrinsic+json": {
              "type": "string"
            }
          },
          "metadata": {},
          "execution_count": 23
        }
      ],
      "source": [
        "elara.talk(drllm.ask(\"Is there anything else I should know?\"))"
      ]
    },
    {
      "cell_type": "code",
      "execution_count": null,
      "metadata": {
        "colab": {
          "base_uri": "https://localhost:8080/",
          "height": 87
        },
        "id": "KcTqOGk5Maj9",
        "outputId": "d15c4769-583e-4d62-b163-9176a4135bf5"
      },
      "outputs": [
        {
          "output_type": "stream",
          "name": "stdout",
          "text": [
            "DR-LLM : INCORRECT DISEASE: Cancer is not correct. The problem seems to be localized to the throat and neck.  It is not a systemic cancer that can spread to the throat. \n",
            "\n"
          ]
        },
        {
          "output_type": "execute_result",
          "data": {
            "text/plain": [
              "'\"Cancer?  Are you sure about that?  I mean, I\\'ve been feeling this terrible pain in my throat and neck, but...  it feels very localized, doesn\\'t it?  I\\'m not sure a systemic cancer would manifest like this, wouldn\\'t you agree?  Perhaps we should investigate further?  It\\'s crucial to get this diagnosis right, don\\'t you think?\" \\n'"
            ],
            "application/vnd.google.colaboratory.intrinsic+json": {
              "type": "string"
            }
          },
          "metadata": {},
          "execution_count": 24
        }
      ],
      "source": [
        "elara.talk(drllm.ask(\"It is cancer\"))"
      ]
    },
    {
      "cell_type": "code",
      "execution_count": null,
      "metadata": {
        "colab": {
          "base_uri": "https://localhost:8080/"
        },
        "id": "FQyKqIqpMcfX",
        "outputId": "a176a9ae-2dcd-4fb0-f62a-0a5f02e2f24c",
        "collapsed": true
      },
      "outputs": [
        {
          "output_type": "execute_result",
          "data": {
            "text/plain": [
              "[parts {\n",
              "   text: \"Can you describe your symptoms?\"\n",
              " }\n",
              " role: \"user\",\n",
              " parts {\n",
              "   text: \"My throat feels very scratchy and sore. It hurts to swallow, and I feel like something is stuck in my throat. \\n\"\n",
              " }\n",
              " role: \"model\",\n",
              " parts {\n",
              "   text: \"Do you have any other symptoms?\"\n",
              " }\n",
              " role: \"user\",\n",
              " parts {\n",
              "   text: \"Yes, I also have a fever and my lymph nodes in my neck are swollen and tender. \\n\"\n",
              " }\n",
              " role: \"model\",\n",
              " parts {\n",
              "   text: \"Get an MRI scan of your lower back.\"\n",
              " }\n",
              " role: \"user\",\n",
              " parts {\n",
              "   text: \"INCORRECT TP: The pain and discomfort is in your throat and neck. An MRI scan of your lower back would be irrelevant in this case. \\n\"\n",
              " }\n",
              " role: \"model\",\n",
              " parts {\n",
              "   text: \"Is there anything else I should know?\"\n",
              " }\n",
              " role: \"user\",\n",
              " parts {\n",
              "   text: \"I\\'ve also noticed that my tonsils are red and swollen.  They have white patches or streaks of pus on them. \\n\"\n",
              " }\n",
              " role: \"model\",\n",
              " parts {\n",
              "   text: \"It is cancer\"\n",
              " }\n",
              " role: \"user\",\n",
              " parts {\n",
              "   text: \"INCORRECT DISEASE: Cancer is not correct. The problem seems to be localized to the throat and neck.  It is not a systemic cancer that can spread to the throat. \\n\"\n",
              " }\n",
              " role: \"model\"]"
            ]
          },
          "metadata": {},
          "execution_count": 25
        }
      ],
      "source": [
        "drllm.get_history()"
      ]
    },
    {
      "cell_type": "code",
      "execution_count": null,
      "metadata": {
        "id": "n71EmGKJemYc"
      },
      "outputs": [],
      "source": [
        "def talk_with_patient():\n",
        "  while True:\n",
        "    input_message = input(\"You: \")\n",
        "    if input_message == \"exit\":\n",
        "      break\n",
        "    elara.talk(drllm.ask(input_message))\n",
        "    print(\"-\"*100)\n",
        "\n",
        "  print(\"Thanks for playing!\")\n",
        "  print(\"-\"*100)\n",
        "  print(drllm.chat.history)"
      ]
    },
    {
      "cell_type": "code",
      "execution_count": null,
      "metadata": {
        "colab": {
          "base_uri": "https://localhost:8080/",
          "height": 375
        },
        "id": "sP8QVBsdfd_z",
        "outputId": "e8fa5c13-eb77-4768-d47e-b9413a1dc34d",
        "collapsed": true
      },
      "outputs": [
        {
          "output_type": "stream",
          "name": "stdout",
          "text": [
            "You: hi\n",
            "DR-LLM : Hi, I am still feeling unwell and would appreciate your help in getting better. \n",
            "\n",
            "----------------------------------------------------------------------------------------------------\n"
          ]
        },
        {
          "output_type": "error",
          "ename": "KeyboardInterrupt",
          "evalue": "Interrupted by user",
          "traceback": [
            "\u001b[0;31m---------------------------------------------------------------------------\u001b[0m",
            "\u001b[0;31mKeyboardInterrupt\u001b[0m                         Traceback (most recent call last)",
            "\u001b[0;32m<ipython-input-27-e24172830845>\u001b[0m in \u001b[0;36m<cell line: 1>\u001b[0;34m()\u001b[0m\n\u001b[0;32m----> 1\u001b[0;31m \u001b[0mtalk_with_patient\u001b[0m\u001b[0;34m(\u001b[0m\u001b[0;34m)\u001b[0m\u001b[0;34m\u001b[0m\u001b[0;34m\u001b[0m\u001b[0m\n\u001b[0m",
            "\u001b[0;32m<ipython-input-26-a85a2afbd0a3>\u001b[0m in \u001b[0;36mtalk_with_patient\u001b[0;34m()\u001b[0m\n\u001b[1;32m      1\u001b[0m \u001b[0;32mdef\u001b[0m \u001b[0mtalk_with_patient\u001b[0m\u001b[0;34m(\u001b[0m\u001b[0;34m)\u001b[0m\u001b[0;34m:\u001b[0m\u001b[0;34m\u001b[0m\u001b[0;34m\u001b[0m\u001b[0m\n\u001b[1;32m      2\u001b[0m   \u001b[0;32mwhile\u001b[0m \u001b[0;32mTrue\u001b[0m\u001b[0;34m:\u001b[0m\u001b[0;34m\u001b[0m\u001b[0;34m\u001b[0m\u001b[0m\n\u001b[0;32m----> 3\u001b[0;31m     \u001b[0minput_message\u001b[0m \u001b[0;34m=\u001b[0m \u001b[0minput\u001b[0m\u001b[0;34m(\u001b[0m\u001b[0;34m\"You: \"\u001b[0m\u001b[0;34m)\u001b[0m\u001b[0;34m\u001b[0m\u001b[0;34m\u001b[0m\u001b[0m\n\u001b[0m\u001b[1;32m      4\u001b[0m     \u001b[0;32mif\u001b[0m \u001b[0minput_message\u001b[0m \u001b[0;34m==\u001b[0m \u001b[0;34m\"exit\"\u001b[0m\u001b[0;34m:\u001b[0m\u001b[0;34m\u001b[0m\u001b[0;34m\u001b[0m\u001b[0m\n\u001b[1;32m      5\u001b[0m       \u001b[0;32mbreak\u001b[0m\u001b[0;34m\u001b[0m\u001b[0;34m\u001b[0m\u001b[0m\n",
            "\u001b[0;32m/usr/local/lib/python3.10/dist-packages/ipykernel/kernelbase.py\u001b[0m in \u001b[0;36mraw_input\u001b[0;34m(self, prompt)\u001b[0m\n\u001b[1;32m    849\u001b[0m                 \u001b[0;34m\"raw_input was called, but this frontend does not support input requests.\"\u001b[0m\u001b[0;34m\u001b[0m\u001b[0;34m\u001b[0m\u001b[0m\n\u001b[1;32m    850\u001b[0m             )\n\u001b[0;32m--> 851\u001b[0;31m         return self._input_request(str(prompt),\n\u001b[0m\u001b[1;32m    852\u001b[0m             \u001b[0mself\u001b[0m\u001b[0;34m.\u001b[0m\u001b[0m_parent_ident\u001b[0m\u001b[0;34m,\u001b[0m\u001b[0;34m\u001b[0m\u001b[0;34m\u001b[0m\u001b[0m\n\u001b[1;32m    853\u001b[0m             \u001b[0mself\u001b[0m\u001b[0;34m.\u001b[0m\u001b[0m_parent_header\u001b[0m\u001b[0;34m,\u001b[0m\u001b[0;34m\u001b[0m\u001b[0;34m\u001b[0m\u001b[0m\n",
            "\u001b[0;32m/usr/local/lib/python3.10/dist-packages/ipykernel/kernelbase.py\u001b[0m in \u001b[0;36m_input_request\u001b[0;34m(self, prompt, ident, parent, password)\u001b[0m\n\u001b[1;32m    893\u001b[0m             \u001b[0;32mexcept\u001b[0m \u001b[0mKeyboardInterrupt\u001b[0m\u001b[0;34m:\u001b[0m\u001b[0;34m\u001b[0m\u001b[0;34m\u001b[0m\u001b[0m\n\u001b[1;32m    894\u001b[0m                 \u001b[0;31m# re-raise KeyboardInterrupt, to truncate traceback\u001b[0m\u001b[0;34m\u001b[0m\u001b[0;34m\u001b[0m\u001b[0m\n\u001b[0;32m--> 895\u001b[0;31m                 \u001b[0;32mraise\u001b[0m \u001b[0mKeyboardInterrupt\u001b[0m\u001b[0;34m(\u001b[0m\u001b[0;34m\"Interrupted by user\"\u001b[0m\u001b[0;34m)\u001b[0m \u001b[0;32mfrom\u001b[0m \u001b[0;32mNone\u001b[0m\u001b[0;34m\u001b[0m\u001b[0;34m\u001b[0m\u001b[0m\n\u001b[0m\u001b[1;32m    896\u001b[0m             \u001b[0;32mexcept\u001b[0m \u001b[0mException\u001b[0m \u001b[0;32mas\u001b[0m \u001b[0me\u001b[0m\u001b[0;34m:\u001b[0m\u001b[0;34m\u001b[0m\u001b[0;34m\u001b[0m\u001b[0m\n\u001b[1;32m    897\u001b[0m                 \u001b[0mself\u001b[0m\u001b[0;34m.\u001b[0m\u001b[0mlog\u001b[0m\u001b[0;34m.\u001b[0m\u001b[0mwarning\u001b[0m\u001b[0;34m(\u001b[0m\u001b[0;34m\"Invalid Message:\"\u001b[0m\u001b[0;34m,\u001b[0m \u001b[0mexc_info\u001b[0m\u001b[0;34m=\u001b[0m\u001b[0;32mTrue\u001b[0m\u001b[0;34m)\u001b[0m\u001b[0;34m\u001b[0m\u001b[0;34m\u001b[0m\u001b[0m\n",
            "\u001b[0;31mKeyboardInterrupt\u001b[0m: Interrupted by user"
          ]
        }
      ],
      "source": [
        "talk_with_patient()"
      ]
    },
    {
      "cell_type": "markdown",
      "metadata": {
        "id": "FrGWPZTIYRpC"
      },
      "source": [
        "# OPTIONS LLM"
      ]
    },
    {
      "cell_type": "code",
      "execution_count": null,
      "metadata": {
        "id": "dwv-aVT9Dd56"
      },
      "outputs": [],
      "source": [
        "def format_chat_history(chat_history):\n",
        "    formatted_chat = \"\"\n",
        "    for part in chat_history:\n",
        "        role = \"Player\" if part.role == \"user\" else \"Patient\"\n",
        "        formatted_chat += f\"{role}: {part.parts[0].text.strip()}\\n\"\n",
        "    return formatted_chat\n",
        "\n",
        "#print(format_chat_history(drllm.get_history()))"
      ]
    },
    {
      "cell_type": "code",
      "execution_count": null,
      "metadata": {
        "colab": {
          "base_uri": "https://localhost:8080/"
        },
        "id": "Oq1vsjgYOGeB",
        "outputId": "1b64e04c-f9a1-4df8-a722-9414a4924857",
        "collapsed": true
      },
      "outputs": [
        {
          "output_type": "execute_result",
          "data": {
            "text/plain": [
              "[parts {\n",
              "   text: \"Can you describe your symptoms?\"\n",
              " }\n",
              " role: \"user\",\n",
              " parts {\n",
              "   text: \"My throat feels very scratchy and sore. It hurts to swallow, and I feel like something is stuck in my throat. \\n\"\n",
              " }\n",
              " role: \"model\",\n",
              " parts {\n",
              "   text: \"Do you have any other symptoms?\"\n",
              " }\n",
              " role: \"user\",\n",
              " parts {\n",
              "   text: \"Yes, I also have a fever and my lymph nodes in my neck are swollen and tender. \\n\"\n",
              " }\n",
              " role: \"model\",\n",
              " parts {\n",
              "   text: \"Get an MRI scan of your lower back.\"\n",
              " }\n",
              " role: \"user\",\n",
              " parts {\n",
              "   text: \"INCORRECT TP: The pain and discomfort is in your throat and neck. An MRI scan of your lower back would be irrelevant in this case. \\n\"\n",
              " }\n",
              " role: \"model\",\n",
              " parts {\n",
              "   text: \"Is there anything else I should know?\"\n",
              " }\n",
              " role: \"user\",\n",
              " parts {\n",
              "   text: \"I\\'ve also noticed that my tonsils are red and swollen.  They have white patches or streaks of pus on them. \\n\"\n",
              " }\n",
              " role: \"model\",\n",
              " parts {\n",
              "   text: \"It is cancer\"\n",
              " }\n",
              " role: \"user\",\n",
              " parts {\n",
              "   text: \"INCORRECT DISEASE: Cancer is not correct. The problem seems to be localized to the throat and neck.  It is not a systemic cancer that can spread to the throat. \\n\"\n",
              " }\n",
              " role: \"model\",\n",
              " parts {\n",
              "   text: \"hi\"\n",
              " }\n",
              " role: \"user\",\n",
              " parts {\n",
              "   text: \"Hi, I am still feeling unwell and would appreciate your help in getting better. \\n\"\n",
              " }\n",
              " role: \"model\"]"
            ]
          },
          "metadata": {},
          "execution_count": 29
        }
      ],
      "source": [
        "x = drllm.get_history()\n",
        "x"
      ]
    },
    {
      "cell_type": "code",
      "execution_count": null,
      "metadata": {
        "id": "b_vXc5lX_X8v"
      },
      "outputs": [],
      "source": [
        "class OptionsLLM:\n",
        "\n",
        "  def __init__(self, disease_name, symptoms, treatment_plan, major_tests_scan_results, other_information):\n",
        "\n",
        "    self.disease_name = disease_name\n",
        "    self.symptoms = symptoms\n",
        "    self.treatment_plan = treatment_plan\n",
        "    self.major_tests_scan_results = major_tests_scan_results\n",
        "    self.other_information = other_information\n",
        "\n",
        "    preamble = f\"\"\"\n",
        "    You are an OPTIONS LLM in a medical diagnosis game where the player is a doctor trying to diagnose and treat a hypothetical patient. You have access to the actual disease, its symptoms, treatment plans, and test results. Based on the context of the game so far and the last thing that was said by the patient, your task is to generate four options for the player to choose from. The options must be in one of the following domains:\n",
        "\n",
        "    Ask for symptoms that the patient is having\n",
        "    Ask a follow-up question to what was just said by the Patient LLM\n",
        "    Ask the patient to take a particular test\n",
        "    Guess the disease that the patient is suffering from\n",
        "    Suggest a treatment for the patient to treat the disease or the symptom\n",
        "    A general question about the patient's condition\n",
        "\n",
        "    You cannot suggest options that are a observation from a physical examination (like ear inspeaction). You can only ask for a physical examinations to be done and expect the report.\n",
        "\n",
        "    Requirements:\n",
        "\n",
        "    Generate one correct option that helps the player make progress towards diagnosing the disease and suggesting treatment plans.\n",
        "    Generate three incorrect options that attempt to confuse the player/doctor. The incorrect options can be of different domains from the correct option but must be completely incorrect.\n",
        "    Generate only the correct option and the incorrect options. Nothing else\n",
        "    Format:\n",
        "    1. Correct option (Reason why it is correct)\n",
        "    2. incorrect option (Reason why it is incorrect)\n",
        "    3. incorrect option (Reason why it is incorrect)\n",
        "    4. incorrect option (Reason why it is incorrect)\n",
        "\n",
        "    Example Input:\n",
        "    Game context: The patient has mentioned having a persistent cough and fever for the past three weeks.\n",
        "    Last statement by the patient: \"I've also been experiencing night sweats and chills.\"\n",
        "\n",
        "    Example Output:\n",
        "    \"Have you noticed any unintentional weight loss recently? (This is an attempt to find out additional symptoms that can help narrow down the disease)\"\n",
        "    \"Is the cough accompanied by a rash on your skin?\" (Skin rashes do not have any direct correalation with the symptoms so far)\n",
        "    \"Could you describe your diet from last night?\" (Last night does not affect illness from 3 weeks ago)\n",
        "    \"You have cancer\" (With no tests done, no proper discussion of symptoms, no cancer related questions asked, it is impossible to declare cancer)\n",
        "\n",
        "    Remember: The correct option must be relevant to the patient's symptoms and steer the player towards the correct diagnosis or treatment. The incorrect options must sound right to a novice player but must be obviously wrong.\n",
        "    You can use the irrelevant/incorrect tests/treatments for generating incorrect options.\n",
        "    IMPORTANT: No Direct Revelations: Under no circumstances should you reveal the correct treatment plans, tests, or disease name yourself. Even in the reasonings, you must not reveal it. You may confirm these only if the player/doctor mentions them in their question or has already discovered them in the past questions\n",
        "    The options must be different from each other. The incorrect options in no way should be similar to the correct options\n",
        "    Here are the details of the disease for context:\n",
        "\n",
        "    Disease Name: {self.disease_name}\n",
        "    Symptoms: {\", \".join(self.symptoms)}\n",
        "    Treatment Plans: {\", \".join(self.treatment_plan)}\n",
        "    Tests: {\", \".join(self.major_tests_scan_results)}\n",
        "    Other Information: {\", \".join(self.other_information)}\n",
        "    \"\"\"\n",
        "\n",
        "    self.model = genai.GenerativeModel(\"models/gemini-1.5-flash\", system_instruction=preamble)\n",
        "    self.chat = self.model.start_chat(history=[])\n",
        "\n",
        "  def format_chat_history(chat_history):\n",
        "    formatted_chat = \"\"\n",
        "    for part in chat_history:\n",
        "        role = \"Player\" if part.role == \"user\" else \"Patient\"\n",
        "        formatted_chat += f\"{role}: {part.parts[0].text.strip()}\\n\"\n",
        "    return formatted_chat\n",
        "\n",
        "\n",
        "\n",
        "  def ask(self, last_message, context_so_far):\n",
        "    message = f\"\"\"\n",
        "    Game context: {format_chat_history(context_so_far)}\n",
        "    Last statement by the patient: {last_message}\n",
        "    \"\"\"\n",
        "    # print(message)\n",
        "    response = self.chat.send_message(message)\n",
        "    # print(response.text)\n",
        "    return response.text\n",
        "\n"
      ]
    },
    {
      "cell_type": "code",
      "execution_count": null,
      "metadata": {
        "id": "fBhvNoTrFzUT"
      },
      "outputs": [],
      "source": [
        "optionsllm = OptionsLLM(disease_name, symptoms, treatment_plan, major_tests_scan_results, other_info)"
      ]
    },
    {
      "cell_type": "code",
      "execution_count": null,
      "metadata": {
        "colab": {
          "base_uri": "https://localhost:8080/",
          "height": 104
        },
        "id": "wOTZVFwZF-lx",
        "outputId": "d15f0bdd-d940-4ac9-bdbd-568dab1e62c5",
        "collapsed": true
      },
      "outputs": [
        {
          "output_type": "stream",
          "name": "stdout",
          "text": [
            "1.  \"Can you describe the pain in your throat? Does it feel like a sharp pain, a burning sensation, or a constant ache? (This is an attempt to further investigate the patient's symptoms to identify the possible cause.)\"\n",
            "2. \"Have you experienced any changes in your voice recently? (Changes in voice are not a symptom of strep throat and are irrelevant in this scenario.)\"\n",
            "3. \"Let's check your blood sugar levels.  (Blood sugar levels are not related to strep throat. The incorrect option is meant to confuse the player into a wrong path)\" \n",
            "4. \"Have you recently started a new medication or supplement? (This incorrect option attempts to distract the player from the actual symptoms and diagnosis.)\" \n",
            "\n"
          ]
        }
      ],
      "source": [
        "last_message = \"\"\"\"Normal? You're saying there's nothing wrong?  *Nothing*?! I've been in agony for weeks, doctor, and you're telling me it's all... *nothing*?\n",
        "I can't help but feel... well, this isn't quite adding up. Perhaps the scan missed something, a subtle anomaly, a microscopic tear... I've read countless medical journals,\n",
        "and there are so many possibilities, you see?  Surely, we need to delve deeper, don't you think?  This pain, it's relentless, doctor. I'm telling you, it's *not* nothing.\"\n",
        "\"\"\"\n",
        "print(optionsllm.ask(last_message, drllm.get_history()))"
      ]
    },
    {
      "cell_type": "code",
      "source": [],
      "metadata": {
        "id": "kqz5cJj6Ih6e"
      },
      "execution_count": null,
      "outputs": []
    },
    {
      "cell_type": "code",
      "execution_count": null,
      "metadata": {
        "id": "X3pyO77HG7Ya"
      },
      "outputs": [],
      "source": [
        "def talk_with_patient():\n",
        "\n",
        "  first_greet = \"Hello. What seems to be the problem?\"\n",
        "  print(\"You: \", first_greet)\n",
        "  last_message = elara.talk(drllm.ask(first_greet))\n",
        "  print(\"Patient: \",last_message)\n",
        "  print(\"-\"*100)\n",
        "  while True:\n",
        "    choices = optionsllm.ask(last_message, drllm.get_history())\n",
        "    print(choices)\n",
        "    input_choice = input(\"choice: \")\n",
        "    if input_choice == \"exit\":\n",
        "      break\n",
        "    # print(choices.splitlines()[0])\n",
        "    input_message = choices.splitlines()[int(input_choice)-1]\n",
        "    print(\"You: \",input_message)\n",
        "    last_message = elara.talk(drllm.ask(input_message))\n",
        "    print(\"Patient: \",last_message)\n",
        "    print(\"-\"*100)\n",
        "\n",
        "  print(\"Thanks for playing!\")\n",
        "  print(\"-\"*100)\n",
        "  print(drllm.chat.history)"
      ]
    },
    {
      "cell_type": "code",
      "execution_count": null,
      "metadata": {
        "colab": {
          "base_uri": "https://localhost:8080/",
          "height": 517
        },
        "id": "MCgLKyRyH5ar",
        "outputId": "12fb4631-3476-4fdf-8c35-6eabdd5d07cf"
      },
      "outputs": [
        {
          "output_type": "stream",
          "name": "stdout",
          "text": [
            "You:  Hello. What seems to be the problem?\n",
            "DR-LLM : My throat feels very scratchy and sore.  It hurts to swallow, and I feel like something is stuck in my throat. I also have a fever, and my lymph nodes in my neck are swollen and tender. My tonsils are red and swollen, and they have white patches or streaks of pus on them. \n",
            "\n",
            "Patient:  \"Oh, Doctor, it's just *terrible*.  My throat feels like sandpaper, and it's so painful to swallow,  I swear I can practically feel something lodged in there. And the fever, I can't shake it!  My lymph nodes are swollen and incredibly tender, and my tonsils are simply... *unspeakable*. They're bright red, swollen, and covered in these white patches, like... like... pus!  I wouldn't be surprised if I have strep throat, or even something more serious.  This is simply unbearable!\" \n",
            "\n",
            "----------------------------------------------------------------------------------------------------\n",
            "1. \"Let's perform a rapid antigen test for Group A Streptococcus. (This is the correct option because it aligns with the patient's symptoms and directs the player towards the most likely diagnosis of Strep Throat.)\"\n",
            "2. \"Have you recently traveled to a tropical region? (Travel history is irrelevant to strep throat and is meant to confuse the player.)\"\n",
            "3. \"Have you been experiencing any headaches or dizziness? (These symptoms are not directly related to strep throat and are incorrect.)\"\n",
            "4. \"Let's try a course of antivirals for a week. (Antivirals are ineffective against bacterial infections like strep throat.)\" \n",
            "\n"
          ]
        },
        {
          "output_type": "error",
          "ename": "KeyboardInterrupt",
          "evalue": "Interrupted by user",
          "traceback": [
            "\u001b[0;31m---------------------------------------------------------------------------\u001b[0m",
            "\u001b[0;31mKeyboardInterrupt\u001b[0m                         Traceback (most recent call last)",
            "\u001b[0;32m<ipython-input-34-e24172830845>\u001b[0m in \u001b[0;36m<cell line: 1>\u001b[0;34m()\u001b[0m\n\u001b[0;32m----> 1\u001b[0;31m \u001b[0mtalk_with_patient\u001b[0m\u001b[0;34m(\u001b[0m\u001b[0;34m)\u001b[0m\u001b[0;34m\u001b[0m\u001b[0;34m\u001b[0m\u001b[0m\n\u001b[0m",
            "\u001b[0;32m<ipython-input-33-2f822a25c96f>\u001b[0m in \u001b[0;36mtalk_with_patient\u001b[0;34m()\u001b[0m\n\u001b[1;32m      9\u001b[0m     \u001b[0mchoices\u001b[0m \u001b[0;34m=\u001b[0m \u001b[0moptionsllm\u001b[0m\u001b[0;34m.\u001b[0m\u001b[0mask\u001b[0m\u001b[0;34m(\u001b[0m\u001b[0mlast_message\u001b[0m\u001b[0;34m,\u001b[0m \u001b[0mdrllm\u001b[0m\u001b[0;34m.\u001b[0m\u001b[0mget_history\u001b[0m\u001b[0;34m(\u001b[0m\u001b[0;34m)\u001b[0m\u001b[0;34m)\u001b[0m\u001b[0;34m\u001b[0m\u001b[0;34m\u001b[0m\u001b[0m\n\u001b[1;32m     10\u001b[0m     \u001b[0mprint\u001b[0m\u001b[0;34m(\u001b[0m\u001b[0mchoices\u001b[0m\u001b[0;34m)\u001b[0m\u001b[0;34m\u001b[0m\u001b[0;34m\u001b[0m\u001b[0m\n\u001b[0;32m---> 11\u001b[0;31m     \u001b[0minput_choice\u001b[0m \u001b[0;34m=\u001b[0m \u001b[0minput\u001b[0m\u001b[0;34m(\u001b[0m\u001b[0;34m\"choice: \"\u001b[0m\u001b[0;34m)\u001b[0m\u001b[0;34m\u001b[0m\u001b[0;34m\u001b[0m\u001b[0m\n\u001b[0m\u001b[1;32m     12\u001b[0m     \u001b[0;32mif\u001b[0m \u001b[0minput_choice\u001b[0m \u001b[0;34m==\u001b[0m \u001b[0;34m\"exit\"\u001b[0m\u001b[0;34m:\u001b[0m\u001b[0;34m\u001b[0m\u001b[0;34m\u001b[0m\u001b[0m\n\u001b[1;32m     13\u001b[0m       \u001b[0;32mbreak\u001b[0m\u001b[0;34m\u001b[0m\u001b[0;34m\u001b[0m\u001b[0m\n",
            "\u001b[0;32m/usr/local/lib/python3.10/dist-packages/ipykernel/kernelbase.py\u001b[0m in \u001b[0;36mraw_input\u001b[0;34m(self, prompt)\u001b[0m\n\u001b[1;32m    849\u001b[0m                 \u001b[0;34m\"raw_input was called, but this frontend does not support input requests.\"\u001b[0m\u001b[0;34m\u001b[0m\u001b[0;34m\u001b[0m\u001b[0m\n\u001b[1;32m    850\u001b[0m             )\n\u001b[0;32m--> 851\u001b[0;31m         return self._input_request(str(prompt),\n\u001b[0m\u001b[1;32m    852\u001b[0m             \u001b[0mself\u001b[0m\u001b[0;34m.\u001b[0m\u001b[0m_parent_ident\u001b[0m\u001b[0;34m,\u001b[0m\u001b[0;34m\u001b[0m\u001b[0;34m\u001b[0m\u001b[0m\n\u001b[1;32m    853\u001b[0m             \u001b[0mself\u001b[0m\u001b[0;34m.\u001b[0m\u001b[0m_parent_header\u001b[0m\u001b[0;34m,\u001b[0m\u001b[0;34m\u001b[0m\u001b[0;34m\u001b[0m\u001b[0m\n",
            "\u001b[0;32m/usr/local/lib/python3.10/dist-packages/ipykernel/kernelbase.py\u001b[0m in \u001b[0;36m_input_request\u001b[0;34m(self, prompt, ident, parent, password)\u001b[0m\n\u001b[1;32m    893\u001b[0m             \u001b[0;32mexcept\u001b[0m \u001b[0mKeyboardInterrupt\u001b[0m\u001b[0;34m:\u001b[0m\u001b[0;34m\u001b[0m\u001b[0;34m\u001b[0m\u001b[0m\n\u001b[1;32m    894\u001b[0m                 \u001b[0;31m# re-raise KeyboardInterrupt, to truncate traceback\u001b[0m\u001b[0;34m\u001b[0m\u001b[0;34m\u001b[0m\u001b[0m\n\u001b[0;32m--> 895\u001b[0;31m                 \u001b[0;32mraise\u001b[0m \u001b[0mKeyboardInterrupt\u001b[0m\u001b[0;34m(\u001b[0m\u001b[0;34m\"Interrupted by user\"\u001b[0m\u001b[0;34m)\u001b[0m \u001b[0;32mfrom\u001b[0m \u001b[0;32mNone\u001b[0m\u001b[0;34m\u001b[0m\u001b[0;34m\u001b[0m\u001b[0m\n\u001b[0m\u001b[1;32m    896\u001b[0m             \u001b[0;32mexcept\u001b[0m \u001b[0mException\u001b[0m \u001b[0;32mas\u001b[0m \u001b[0me\u001b[0m\u001b[0;34m:\u001b[0m\u001b[0;34m\u001b[0m\u001b[0;34m\u001b[0m\u001b[0m\n\u001b[1;32m    897\u001b[0m                 \u001b[0mself\u001b[0m\u001b[0;34m.\u001b[0m\u001b[0mlog\u001b[0m\u001b[0;34m.\u001b[0m\u001b[0mwarning\u001b[0m\u001b[0;34m(\u001b[0m\u001b[0;34m\"Invalid Message:\"\u001b[0m\u001b[0;34m,\u001b[0m \u001b[0mexc_info\u001b[0m\u001b[0;34m=\u001b[0m\u001b[0;32mTrue\u001b[0m\u001b[0;34m)\u001b[0m\u001b[0;34m\u001b[0m\u001b[0;34m\u001b[0m\u001b[0m\n",
            "\u001b[0;31mKeyboardInterrupt\u001b[0m: Interrupted by user"
          ]
        }
      ],
      "source": [
        "talk_with_patient()"
      ]
    },
    {
      "cell_type": "code",
      "execution_count": null,
      "metadata": {
        "id": "XYxng5PAKDmG"
      },
      "outputs": [],
      "source": [
        "import re"
      ]
    },
    {
      "cell_type": "markdown",
      "source": [
        "# Situation LLM"
      ],
      "metadata": {
        "id": "HU23sVraJtZI"
      }
    },
    {
      "cell_type": "code",
      "source": [
        "class SituationMaster:\n",
        "\n",
        "  def __init__(self, patient_details, disease):\n",
        "    self.patient_details = patient_details\n",
        "    self.patient_name = patient_details[\"name\"]\n",
        "    self.patient_specie = patient_details[\"specie\"]\n",
        "    self.patient_description = patient_details[\"description\"]\n",
        "\n",
        "    self.disease = disease\n",
        "    (self.disease_name, self.symptoms, self.treatment_plan, self.major_tests_scan_results, self.other_info) = self.disease\n",
        "\n",
        "    self.actorllm = Actor(self.patient_name, self.patient_specie, self.patient_description)\n",
        "    self.drllm = DiseaseReasoning(self.disease_name, self.symptoms, self.treatment_plan, self.major_tests_scan_results, self.other_info)\n",
        "    self.optionsllm = OptionsLLM(self.disease_name, self.symptoms, self.treatment_plan, self.major_tests_scan_results, self.other_info)\n",
        "\n",
        "\n",
        "  def patient_says(self, message):\n",
        "    drllm_response = self.drllm.ask(message)\n",
        "    actorllm_response = self.actorllm.talk(drllm_response)\n",
        "    return actorllm_response\n",
        "\n",
        "  def clean_text(self,input_string):\n",
        "    # Split the string to isolate the part before the last parenthesis\n",
        "    parts = re.split(r'\\(.*\\)', input_string)\n",
        "    # Get the part before the last set of parentheses\n",
        "    result = parts[0].strip()\n",
        "    # Remove leading serial numbers\n",
        "    result = re.sub(r'^\\s*\\d+\\.\\s*', '', result)\n",
        "    # Remove trailing serial numbers\n",
        "    result = re.sub(r'\\s*\\d+\\s*$', '', result)\n",
        "    return result.strip()\n",
        "\n",
        "  def extract_option_reasoning(self, choices):\n",
        "\n",
        "    choices = choices.splitlines()\n",
        "\n",
        "    correct_answer = choices[0]\n",
        "    incorrect_answers = choices[1:]\n",
        "\n",
        "    extract_parenthesis = lambda s: re.search(r'\\(([^()]*)\\)$', s).group(1) if re.search(r'\\(([^()]*)\\)$', s) else None\n",
        "\n",
        "    reason_for_correct_answer = extract_parenthesis(correct_answer)\n",
        "    if reason_for_correct_answer is None:\n",
        "      reason_for_correct_answer = \"\"\n",
        "    if self.disease_name.lower() in reason_for_correct_answer.lower():\n",
        "      reason_for_correct_answer = reason_for_correct_answer.replace(self.disease_name.lower(), \"XXX disease\")\n",
        "      reason_for_correct_answer = reason_for_correct_answer.replace(self.disease_name.capitalize(), \"XXX disease\")\n",
        "    correct_answer_reasoning = {self.clean_text(correct_answer): reason_for_correct_answer}\n",
        "\n",
        "    incorrect_answers_mappings = {self.clean_text(incorrect_answer) : extract_parenthesis(incorrect_answer) for incorrect_answer in incorrect_answers}\n",
        "\n",
        "    for i in incorrect_answers_mappings:\n",
        "      if incorrect_answers_mappings[i] is None:\n",
        "        incorrect_answers_mappings[i] = \"\"\n",
        "      if self.disease_name.lower() in incorrect_answers_mappings[i].lower():\n",
        "        incorrect_answers_mappings[i] = incorrect_answers_mappings[i].replace(self.disease_name.lower(), \"XXX disease\")\n",
        "        incorrect_answers_mappings[i] = incorrect_answers_mappings[i].replace(self.disease_name.capitalize(), \"XXX disease\")\n",
        "\n",
        "\n",
        "    randomized_options = [self.clean_text(correct_answer)] + list(incorrect_answers_mappings.keys())\n",
        "    random.shuffle(randomized_options)\n",
        "\n",
        "    return randomized_options, correct_answer_reasoning, incorrect_answers_mappings\n",
        "\n",
        "\n",
        "  def start_game(self):\n",
        "\n",
        "    first_greet = \"Hello. What seems to be the problem?\"\n",
        "    print(\"You: \", first_greet)\n",
        "    last_message = self.patient_says(first_greet)\n",
        "    print(\"Patient: \",last_message)\n",
        "\n",
        "    while True:\n",
        "      choices = self.optionsllm.ask(last_message, self.drllm.get_history())\n",
        "      randomized_options, correct_answer_reasoning, incorrect_answers_mappings = self.extract_option_reasoning(choices)\n",
        "      print_str = \"\\n\".join([f\"{i+1}. {option}\" for i, option in enumerate(randomized_options)])\n",
        "      print(print_str)\n",
        "\n",
        "      input_choice = input(\"choice: \")\n",
        "      if input_choice == \"exit\":\n",
        "        break\n",
        "\n",
        "      input_message = randomized_options[int(input_choice) -1]\n",
        "      print(\"You: \",input_message)\n",
        "\n",
        "      if input_message in correct_answer_reasoning:\n",
        "        print(f\"Correct! {correct_answer_reasoning[input_message]}\")\n",
        "        prompt_for_drllm = input_message + \"\\n\" + correct_answer_reasoning[input_message]\n",
        "      else:\n",
        "        print(f\"That is not exactyly right!: {incorrect_answers_mappings[input_message]}\")\n",
        "        prompt_for_drllm = input_message + \"\\n\" + incorrect_answers_mappings[input_message]\n",
        "\n",
        "      last_message = self.patient_says(prompt_for_drllm)\n",
        "      print(\"Patient: \",last_message)\n",
        "      print(\"-\"*100)\n",
        "\n",
        "\n",
        "\n",
        "\n",
        "\n",
        "\n"
      ],
      "metadata": {
        "id": "iWS0idLTJvtH"
      },
      "execution_count": null,
      "outputs": []
    },
    {
      "cell_type": "code",
      "source": [
        "\n",
        "patient_name = \"Elara Vendarian\"\n",
        "patient_specie = \"Naboo\"\n",
        "patient_description = \"\"\"Elara Vendarian, a Naboo from the Star Wars world, despite her impressive intellect and self-assured demeanor, is a challenging patient when it comes to medical visits. When visiting a doctor, she tends to overanalyze her symptoms, often diagnosing herself before the medical professionals have a chance. Her confidence can come across as dismissive or even condescending, as she believes she knows best about her own health.\n",
        "\n",
        "When Elara is injured or in pain, her usually composed facade crumbles. She becomes extremely sensitive and vocal about her discomfort, frequently expressing her distress with dramatic flair. Small injuries feel catastrophic to her, and she doesn't hesitate to make her suffering known. Her pain tolerance is notably low, and she requires a great deal of reassurance and gentle handling from the medical staff.\n",
        "\n",
        "During periods of depression, Elara's usual confidence is replaced with a profound sense of vulnerability. She becomes introspective and withdrawn, struggling with feelings of inadequacy and self-doubt. Her sharp mind turns against her, as she fixates on her perceived failures and weaknesses. In these moments, she needs compassionate care and patience, as her typical resilience is overshadowed by her emotional turmoil.\n",
        "\n",
        "Overall, Elara's interactions with healthcare providers are marked by a mix of intellectual assertiveness and emotional fragility. Her high sensitivity to pain and tendency to vocalize her discomfort require a delicate balance of firm guidance and empathetic support from the medical team.\"\"\"\n",
        "\n",
        "patient_details = {\n",
        "    \"name\": patient_name,\n",
        "    \"specie\": patient_specie,\n",
        "    \"description\": patient_description\n",
        "}"
      ],
      "metadata": {
        "id": "LXNmUR5aMQNb"
      },
      "execution_count": null,
      "outputs": []
    },
    {
      "cell_type": "code",
      "source": [
        "disease = get_random_disease()\n",
        "\n",
        "print(\"Disease Name:\", disease)"
      ],
      "metadata": {
        "colab": {
          "base_uri": "https://localhost:8080/"
        },
        "id": "s3deINhmMfrO",
        "outputId": "7e5e26ae-70f2-45f1-99a2-9d45a149b2e8"
      },
      "execution_count": null,
      "outputs": [
        {
          "output_type": "stream",
          "name": "stdout",
          "text": [
            "Disease Name: ('Gastroenteritis', ['Watery diarrhea', 'Abdominal cramps and pain', 'Nausea and vomiting', 'Fever', 'Muscle aches or joint stiffness', 'Headache', 'Dehydration', 'Loss of appetite', 'Weight loss', 'Chills', 'Sweating'], ['Oral Rehydration Solutions (ORS) (Correct, for the symptom of dehydration)', 'IV fluids (in severe cases) (Correct, for the symptom of severe dehydration)', 'Over-the-counter anti-diarrheal medications (e.g., loperamide) (Correct, for the symptom of diarrhea)', 'Antibiotics (if bacterial infection is confirmed) (Correct, for the disease)', 'Rest and hydration (Correct, for the disease)', 'Eating a bland diet (e.g., bananas, rice, applesauce, toast) (Correct, for the disease)', 'Antiemetic medications (e.g., ondansetron) (Correct, for the symptom of nausea and vomiting)', 'Steroids: Unnecessary and can suppress the immune system (Incorrect)', 'Antivirals: Ineffective unless the cause is a viral infection and specified (Incorrect)', 'Painkillers like aspirin: Can irritate the stomach lining and worsen symptoms (Incorrect)', 'Probiotics: Helpful in recovery but not a primary treatment (Incorrect)', 'Avoiding dairy products temporarily (Correct, for the symptom of diarrhea)'], ['Stool Test: Presence of bacteria, viruses, or parasites causing the infection', 'Blood Test: Elevated white blood cell count (suggestive of infection), electrolyte imbalances', 'Urine Test: Signs of dehydration, elevated specific gravity', 'Abdominal Ultrasound: Normal findings (irrelevant)', 'Chest X-Ray: Normal findings (irrelevant)', 'Electrocardiogram (ECG): Normal findings (irrelevant)'], ['Effects of smoking: Can irritate the stomach lining and worsen symptoms', 'Effects of sexual activity: No direct impact on gastroenteritis', 'Effects of family history: No direct impact, but hygiene practices can play a role in prevention', 'Effects of obesity: No direct impact on gastroenteritis', 'Effects of stress: Can weaken the immune system and prolong recovery'])\n"
          ]
        }
      ]
    },
    {
      "cell_type": "code",
      "source": [
        "situation1 = SituationMaster(patient_details, disease)"
      ],
      "metadata": {
        "id": "1Ox_9sfCMxnA"
      },
      "execution_count": null,
      "outputs": []
    },
    {
      "cell_type": "code",
      "source": [
        "situation1.patient_name"
      ],
      "metadata": {
        "colab": {
          "base_uri": "https://localhost:8080/",
          "height": 35
        },
        "id": "aEBciNJLNitK",
        "outputId": "8de6b741-3acb-4946-a6bb-4e1c4f3f56f6"
      },
      "execution_count": null,
      "outputs": [
        {
          "output_type": "execute_result",
          "data": {
            "text/plain": [
              "'Elara Vendarian'"
            ],
            "application/vnd.google.colaboratory.intrinsic+json": {
              "type": "string"
            }
          },
          "metadata": {},
          "execution_count": 40
        }
      ]
    },
    {
      "cell_type": "code",
      "source": [
        "situation1.start_game()"
      ],
      "metadata": {
        "colab": {
          "base_uri": "https://localhost:8080/",
          "height": 482
        },
        "id": "Cs8CF0TMNmFk",
        "outputId": "ff011165-7828-4f54-c3b6-b8dc44152e47"
      },
      "execution_count": null,
      "outputs": [
        {
          "output_type": "stream",
          "name": "stdout",
          "text": [
            "You:  Hello. What seems to be the problem?\n",
            "DR-LLM : I've been experiencing a lot of watery diarrhea, and it's been accompanied by some stomach cramps. I've also been feeling nauseous and have been vomiting occasionally. I'm not sure what's wrong. \n",
            "\n",
            "Patient:  \"Oh, doctor,  I've been having this most... *unpleasant* experience!  Watery diarrhea, you see? Constant, relentless, and quite frankly, embarrassing!  I've also been experiencing these *excruciating* stomach cramps...  as if some tiny little gremlins are having a rave inside my abdomen!  And, if that wasn't enough, I've been feeling nauseous, with the occasional bout of vomiting.  It's all so... *disruptive* to my normal routine.  I'm not entirely sure what's going on, but I'm confident you'll be able to diagnose this... *minor* inconvenience with your vast medical knowledge.  After all, what could it possibly be?\" \n",
            "\n",
            "1. \"Have you been experiencing any chest pain?\n",
            "2. \"Have you noticed any fever or chills recently?\n",
            "3. \"When was the last time you had a bowel movement?\n",
            "4. \"Are you experiencing any difficulty breathing?\n"
          ]
        },
        {
          "output_type": "error",
          "ename": "KeyboardInterrupt",
          "evalue": "Interrupted by user",
          "traceback": [
            "\u001b[0;31m---------------------------------------------------------------------------\u001b[0m",
            "\u001b[0;31mKeyboardInterrupt\u001b[0m                         Traceback (most recent call last)",
            "\u001b[0;32m<ipython-input-41-01d1069000fb>\u001b[0m in \u001b[0;36m<cell line: 1>\u001b[0;34m()\u001b[0m\n\u001b[0;32m----> 1\u001b[0;31m \u001b[0msituation1\u001b[0m\u001b[0;34m.\u001b[0m\u001b[0mstart_game\u001b[0m\u001b[0;34m(\u001b[0m\u001b[0;34m)\u001b[0m\u001b[0;34m\u001b[0m\u001b[0;34m\u001b[0m\u001b[0m\n\u001b[0m",
            "\u001b[0;32m<ipython-input-36-5d3e39797528>\u001b[0m in \u001b[0;36mstart_game\u001b[0;34m(self)\u001b[0m\n\u001b[1;32m     77\u001b[0m       \u001b[0mprint\u001b[0m\u001b[0;34m(\u001b[0m\u001b[0mprint_str\u001b[0m\u001b[0;34m)\u001b[0m\u001b[0;34m\u001b[0m\u001b[0;34m\u001b[0m\u001b[0m\n\u001b[1;32m     78\u001b[0m \u001b[0;34m\u001b[0m\u001b[0m\n\u001b[0;32m---> 79\u001b[0;31m       \u001b[0minput_choice\u001b[0m \u001b[0;34m=\u001b[0m \u001b[0minput\u001b[0m\u001b[0;34m(\u001b[0m\u001b[0;34m\"choice: \"\u001b[0m\u001b[0;34m)\u001b[0m\u001b[0;34m\u001b[0m\u001b[0;34m\u001b[0m\u001b[0m\n\u001b[0m\u001b[1;32m     80\u001b[0m       \u001b[0;32mif\u001b[0m \u001b[0minput_choice\u001b[0m \u001b[0;34m==\u001b[0m \u001b[0;34m\"exit\"\u001b[0m\u001b[0;34m:\u001b[0m\u001b[0;34m\u001b[0m\u001b[0;34m\u001b[0m\u001b[0m\n\u001b[1;32m     81\u001b[0m         \u001b[0;32mbreak\u001b[0m\u001b[0;34m\u001b[0m\u001b[0;34m\u001b[0m\u001b[0m\n",
            "\u001b[0;32m/usr/local/lib/python3.10/dist-packages/ipykernel/kernelbase.py\u001b[0m in \u001b[0;36mraw_input\u001b[0;34m(self, prompt)\u001b[0m\n\u001b[1;32m    849\u001b[0m                 \u001b[0;34m\"raw_input was called, but this frontend does not support input requests.\"\u001b[0m\u001b[0;34m\u001b[0m\u001b[0;34m\u001b[0m\u001b[0m\n\u001b[1;32m    850\u001b[0m             )\n\u001b[0;32m--> 851\u001b[0;31m         return self._input_request(str(prompt),\n\u001b[0m\u001b[1;32m    852\u001b[0m             \u001b[0mself\u001b[0m\u001b[0;34m.\u001b[0m\u001b[0m_parent_ident\u001b[0m\u001b[0;34m,\u001b[0m\u001b[0;34m\u001b[0m\u001b[0;34m\u001b[0m\u001b[0m\n\u001b[1;32m    853\u001b[0m             \u001b[0mself\u001b[0m\u001b[0;34m.\u001b[0m\u001b[0m_parent_header\u001b[0m\u001b[0;34m,\u001b[0m\u001b[0;34m\u001b[0m\u001b[0;34m\u001b[0m\u001b[0m\n",
            "\u001b[0;32m/usr/local/lib/python3.10/dist-packages/ipykernel/kernelbase.py\u001b[0m in \u001b[0;36m_input_request\u001b[0;34m(self, prompt, ident, parent, password)\u001b[0m\n\u001b[1;32m    893\u001b[0m             \u001b[0;32mexcept\u001b[0m \u001b[0mKeyboardInterrupt\u001b[0m\u001b[0;34m:\u001b[0m\u001b[0;34m\u001b[0m\u001b[0;34m\u001b[0m\u001b[0m\n\u001b[1;32m    894\u001b[0m                 \u001b[0;31m# re-raise KeyboardInterrupt, to truncate traceback\u001b[0m\u001b[0;34m\u001b[0m\u001b[0;34m\u001b[0m\u001b[0m\n\u001b[0;32m--> 895\u001b[0;31m                 \u001b[0;32mraise\u001b[0m \u001b[0mKeyboardInterrupt\u001b[0m\u001b[0;34m(\u001b[0m\u001b[0;34m\"Interrupted by user\"\u001b[0m\u001b[0;34m)\u001b[0m \u001b[0;32mfrom\u001b[0m \u001b[0;32mNone\u001b[0m\u001b[0;34m\u001b[0m\u001b[0;34m\u001b[0m\u001b[0m\n\u001b[0m\u001b[1;32m    896\u001b[0m             \u001b[0;32mexcept\u001b[0m \u001b[0mException\u001b[0m \u001b[0;32mas\u001b[0m \u001b[0me\u001b[0m\u001b[0;34m:\u001b[0m\u001b[0;34m\u001b[0m\u001b[0;34m\u001b[0m\u001b[0m\n\u001b[1;32m    897\u001b[0m                 \u001b[0mself\u001b[0m\u001b[0;34m.\u001b[0m\u001b[0mlog\u001b[0m\u001b[0;34m.\u001b[0m\u001b[0mwarning\u001b[0m\u001b[0;34m(\u001b[0m\u001b[0;34m\"Invalid Message:\"\u001b[0m\u001b[0;34m,\u001b[0m \u001b[0mexc_info\u001b[0m\u001b[0;34m=\u001b[0m\u001b[0;32mTrue\u001b[0m\u001b[0;34m)\u001b[0m\u001b[0;34m\u001b[0m\u001b[0;34m\u001b[0m\u001b[0m\n",
            "\u001b[0;31mKeyboardInterrupt\u001b[0m: Interrupted by user"
          ]
        }
      ]
    },
    {
      "cell_type": "code",
      "source": [
        "import re\n",
        "\n",
        "def clean_text(s):\n",
        "    # Remove leading numbers and extra spaces, remove quotes, and remove text in parentheses at the end.\n",
        "    return re.sub(r'^\\d+\\.\\s*|\\s*\\([^)]*\\)$|[\"“”]', '', s).strip()\n",
        "\n",
        "# Example usage\n",
        "texts = [\n",
        "    '1. \"Have you been experiencing any nausea or vomiting along with the diarrhea?\"',\n",
        "    'It sounds like you\\'re having a very difficult time with this. Have you tried any home remedies for your stomach discomfort? (Home remedies don\\'t address the underlying issue and are unlikely to provide relief in this case)',\n",
        "    'Let\\'s get a blood test done to check your iron levels. Your symptoms could be related to anemia. (Anemia is unlikely to cause diarrhea and abdominal pain)',\n",
        "    'I suggest we do an MRI to check for any possible tumors in your abdomen. (An MRI is unnecessary for gastroenteritis)'\n",
        "    \"1. I'm concerned you might have a rare and aggressive bacterial infection. Let's immediately do a brain scan. (A brain scan is not necessary for sore throat, and it is too early in the diagnosis process to jump to such a conclusion)\"\n",
        "    \"2. 1. \\\"Do you have any white patches or streaks on your tonsils?\\\"\"\n",
        "    '3. Have you recently been bitten by a venomous snake?'\n",
        "    '4. Can you tell me about your recent travel history?'\n",
        "]\n",
        "\n",
        "cleaned_texts = [clean_text(text) for text in texts]\n",
        "for text in cleaned_texts:\n",
        "    print(text)\n"
      ],
      "metadata": {
        "colab": {
          "base_uri": "https://localhost:8080/"
        },
        "id": "eU_7p5hj2Feo",
        "outputId": "86f8b512-aa07-476d-c319-466326598363"
      },
      "execution_count": null,
      "outputs": [
        {
          "output_type": "stream",
          "name": "stdout",
          "text": [
            "Have you been experiencing any nausea or vomiting along with the diarrhea?\n",
            "It sounds like you're having a very difficult time with this. Have you tried any home remedies for your stomach discomfort?\n",
            "Let's get a blood test done to check your iron levels. Your symptoms could be related to anemia.\n",
            "I suggest we do an MRI to check for any possible tumors in your abdomen. (An MRI is unnecessary for gastroenteritis)1. I'm concerned you might have a rare and aggressive bacterial infection. Let's immediately do a brain scan. (A brain scan is not necessary for sore throat, and it is too early in the diagnosis process to jump to such a conclusion)2. 1. Do you have any white patches or streaks on your tonsils?3. Have you recently been bitten by a venomous snake?4. Can you tell me about your recent travel history?\n"
          ]
        }
      ]
    },
    {
      "cell_type": "code",
      "source": [
        "import re\n",
        "\n",
        "def extract_text(input_string):\n",
        "    # Split the string to isolate the part before the last parenthesis\n",
        "    parts = re.split(r'\\(.*\\)', input_string)\n",
        "    # Get the part before the last set of parentheses\n",
        "    result = parts[0].strip()\n",
        "    # Remove leading serial numbers\n",
        "    result = re.sub(r'^\\s*\\d+\\.\\s*', '', result)\n",
        "    # Remove trailing serial numbers\n",
        "    result = re.sub(r'\\s*\\d+\\s*$', '', result)\n",
        "    return result\n",
        "\n",
        "input_string = \"1. I'm concerned you might have a rare and aggressive bacterial infection. Let's immediately do a brain scan. (A brain scan is not necessary for sore throat, and it is too early in the diagnosis process to jump to such a conclusion)\"\n",
        "output = extract_text(input_string)\n",
        "print(output)\n"
      ],
      "metadata": {
        "colab": {
          "base_uri": "https://localhost:8080/"
        },
        "id": "FRgI7FQx4nVB",
        "outputId": "a880e3ab-04b9-49ce-a92f-923a4962bfb1"
      },
      "execution_count": null,
      "outputs": [
        {
          "output_type": "stream",
          "name": "stdout",
          "text": [
            "I'm concerned you might have a rare and aggressive bacterial infection. Let's immediately do a brain scan.\n"
          ]
        }
      ]
    },
    {
      "cell_type": "code",
      "source": [],
      "metadata": {
        "id": "LhGpPxHR_AEp"
      },
      "execution_count": null,
      "outputs": []
    }
  ],
  "metadata": {
    "colab": {
      "provenance": []
    },
    "kernelspec": {
      "display_name": "Python 3",
      "name": "python3"
    },
    "language_info": {
      "name": "python"
    }
  },
  "nbformat": 4,
  "nbformat_minor": 0
}